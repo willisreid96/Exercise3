{
  "cells": [
    {
      "cell_type": "markdown",
      "metadata": {
        "id": "NwhJOozykbV_"
      },
      "source": [
        "# Lab Exercise on Data Exploration and Preparation Summer 2025 ITCS 6162\n",
        "## Your Name: Willis Reid\n",
        "\n",
        "### Using the Boston Building and Property Violations Dataset showing a variety of code violations, perform exploratory data analysis, data wrangling and document what you learn. Execute the code sequentially starting with library imports and continue wherever code is already entered. Follow instructions and add code or text where indicated (Question 1, Question 2, etc.). Feel free to add other code. Turn in your notebook \"printed\" as a PDF but be sure to Download the .ipynb version as well for continuing work or for saving when complete.\n",
        "### To learn more about the metadata visit: <a href=\"https://data.boston.gov/dataset/building-and-property-violations1/resource/800a2663-1d6a-46e7-9356-bedb70f5332c\">Boston Building and Property Violations</a><br>\n"
      ]
    },
    {
      "cell_type": "markdown",
      "source": [
        "### Review the notebook at <a href=\"https://colab.research.google.com/github/jakevdp/PythonDataScienceHandbook/blob/master/notebooks/04.14-Visualization-With-Seaborn.ipynb#scrollTo=ahx_HYUqYc9T\">Python Data Science Handbook Visualization With Seaborn</a> to assist with the visualizations. You can also use AI to assist with the code, but make sure you understand every line of code!"
      ],
      "metadata": {
        "id": "C7CVaDsVeNcv"
      }
    },
    {
      "cell_type": "code",
      "execution_count": 1,
      "metadata": {
        "id": "j-aUsNf4kbWG"
      },
      "outputs": [],
      "source": [
        "# import statements\n",
        "import pandas as pd\n",
        "import seaborn as sns"
      ]
    },
    {
      "cell_type": "code",
      "execution_count": null,
      "metadata": {
        "id": "awR7ZLEkkbWI"
      },
      "outputs": [],
      "source": [
        "# create a variable to store the url for the data ingest\n",
        "urltodata = \"https://raw.githubusercontent.com/plthomps/UNCC-Data-Mining-Summer-2025/refs/heads/main/tmpdiixs5mq.csv\""
      ]
    },
    {
      "cell_type": "code",
      "execution_count": null,
      "metadata": {
        "id": "JvaZSSeMkbWI"
      },
      "outputs": [],
      "source": [
        "# read the data using the url into a pandas dataframe\n",
        "bostondata = pd.read_csv(urltodata)"
      ]
    },
    {
      "cell_type": "code",
      "execution_count": null,
      "metadata": {
        "id": "A4MPrtxnkbWJ"
      },
      "outputs": [],
      "source": [
        "# examine the first few rows of data\n",
        "bostondata.head()"
      ]
    },
    {
      "cell_type": "markdown",
      "source": [
        "## Question 1 Part A: using code, document the nulls in the dataset."
      ],
      "metadata": {
        "id": "3Jf7RDZUCveA"
      }
    },
    {
      "cell_type": "code",
      "execution_count": null,
      "metadata": {
        "id": "9B0qBPLDkbWM"
      },
      "outputs": [],
      "source": [
        "#Question 1 Part A using code, show the nulls in the dataframe"
      ]
    },
    {
      "cell_type": "markdown",
      "source": [
        "## Question 1 Part B: How would you handle the nulls? In the markdown cell below, document several ways to handle the nulls in the dataset. You are not required to enter code (optional), only describe approaches to handling the nulls."
      ],
      "metadata": {
        "id": "C-np6GhoDoBt"
      }
    },
    {
      "cell_type": "markdown",
      "source": [
        "## Question 1 Part B Answer:\n"
      ],
      "metadata": {
        "id": "KznooEF4D4k9"
      }
    },
    {
      "cell_type": "code",
      "source": [
        "#lets add a column - month - and make it numeric\n",
        "# we will use slice\n",
        "bostondata['month'] = bostondata['status_dttm'].str.slice(5,7)\n",
        "#one of the values is not null, but has spaces\n",
        "bostondata[\"month\"].replace({\"\": \"09\"}, inplace=True)\n",
        "# change the column type from object to int\n",
        "bostondata['month'] = pd.to_numeric(bostondata['month'])\n",
        "#lets see info on bostondata\n",
        "bostondata.info()"
      ],
      "metadata": {
        "id": "Z2UQBMZ5ErVk"
      },
      "execution_count": null,
      "outputs": []
    },
    {
      "cell_type": "markdown",
      "source": [
        "## Question 2: Get the value counts (number of occurrences of unique values) for the records by our new month column"
      ],
      "metadata": {
        "id": "g2C_cLvsC-33"
      }
    },
    {
      "cell_type": "code",
      "source": [
        "# Question 2 code: lets get the value counts for our new column"
      ],
      "metadata": {
        "id": "TCTOb1koFW0z"
      },
      "execution_count": null,
      "outputs": []
    },
    {
      "cell_type": "markdown",
      "source": [
        "## Question 3. Using the describe function, get statistical information on the numerical features (columns)."
      ],
      "metadata": {
        "id": "HvCvIgH_DLzm"
      }
    },
    {
      "cell_type": "code",
      "execution_count": null,
      "metadata": {
        "id": "-BdoU2pqkbWN"
      },
      "outputs": [],
      "source": [
        "#Question 3 code: statistical information"
      ]
    },
    {
      "cell_type": "markdown",
      "source": [
        "## Question 4 Part A: In the code cell below, get the value counts for the description column and use normalize = True to get the percentages."
      ],
      "metadata": {
        "id": "JFMsjFtxFbDl"
      }
    },
    {
      "cell_type": "code",
      "source": [
        "#Question 4 Part A Code: Value Counts\n"
      ],
      "metadata": {
        "id": "Vkbn013Rr9xz"
      },
      "execution_count": null,
      "outputs": []
    },
    {
      "cell_type": "markdown",
      "source": [
        "## Question 4 Part B: What are the top 3 problems according to the percentages? Answer using the markdown cell below."
      ],
      "metadata": {
        "id": "nOCiIv1RFydW"
      }
    },
    {
      "cell_type": "markdown",
      "source": [
        "## Question 4 Part B Answer:\n",
        "\n"
      ],
      "metadata": {
        "id": "VzceQ59jF9vc"
      }
    },
    {
      "cell_type": "markdown",
      "source": [
        "## Question 5 Is there any pattern to problem types and the month of occurrence? Create a visualization to learn more in the code cell below."
      ],
      "metadata": {
        "id": "E0rz4s_6i5ab"
      }
    },
    {
      "cell_type": "code",
      "source": [
        "#Question 5 Code (run for visualization)"
      ],
      "metadata": {
        "id": "MkZNNlAMjIUP"
      },
      "execution_count": null,
      "outputs": []
    },
    {
      "cell_type": "markdown",
      "source": [
        "## Question 6 What did you learn about any patterns by month? Place your answer below in the markdown cell."
      ],
      "metadata": {
        "id": "vTS-5sL-jMLX"
      }
    },
    {
      "cell_type": "markdown",
      "source": [
        "## Question 6 Answer:"
      ],
      "metadata": {
        "id": "sEN34ChDjXFa"
      }
    },
    {
      "cell_type": "markdown",
      "source": [
        "## We will now filter the records to exclude all but \"Unsafe and Dangerous\" and \"Maintenance\". Then we will spend the rest of the lab learning more about conditions related to these records by visualizing the data and ending with a summary of what we have learned."
      ],
      "metadata": {
        "id": "9zg3WtPtGvCm"
      }
    },
    {
      "cell_type": "code",
      "source": [
        "#create a new pandas dataframe with the filtered data\n",
        "#bostondata_filtered = bostondata.query(\"description == 'Unsafe and Dangerous' |  description == 'Maintenance' | description = 'Failure to Obtain Permit'\")\n",
        "bostondata_filtered = bostondata[(bostondata.description == 'Unsafe and Dangerous') | (bostondata.description == 'Maintenance')]"
      ],
      "metadata": {
        "id": "sQyJR5m_QjQe"
      },
      "execution_count": null,
      "outputs": []
    },
    {
      "cell_type": "code",
      "source": [
        "bostondata_filtered.info()"
      ],
      "metadata": {
        "id": "2zb4DeBduI58"
      },
      "execution_count": null,
      "outputs": []
    },
    {
      "cell_type": "markdown",
      "source": [
        "## Questions 5 through 8: Create 4 visualizations using Seaborn that help you gain insight into the Boston Data. Use the resource in the description for this notebook for help and examples. You can also use Seaborn documentation."
      ],
      "metadata": {
        "id": "AbPYtem7KHHh"
      }
    },
    {
      "cell_type": "code",
      "source": [
        "# Question 5 Visualization"
      ],
      "metadata": {
        "id": "ftm_GC4WKxRI"
      },
      "execution_count": null,
      "outputs": []
    },
    {
      "cell_type": "code",
      "source": [
        "# Question 6 Visualization"
      ],
      "metadata": {
        "id": "tt8LmlpsKxD8"
      },
      "execution_count": null,
      "outputs": []
    },
    {
      "cell_type": "code",
      "source": [
        "# Question 7 Visualization"
      ],
      "metadata": {
        "id": "52jTb9TmKw6C"
      },
      "execution_count": null,
      "outputs": []
    },
    {
      "cell_type": "code",
      "source": [
        "# Question 8 Visualization"
      ],
      "metadata": {
        "id": "xiZmzVSfKwpL"
      },
      "execution_count": null,
      "outputs": []
    },
    {
      "cell_type": "markdown",
      "metadata": {
        "id": "6sBVB5g4kbWQ"
      },
      "source": [
        "## Question 9:  What have you learned from Exploratory Data Analysis?\n"
      ]
    },
    {
      "cell_type": "markdown",
      "metadata": {
        "id": "KUUAZGRWkbWR"
      },
      "source": [
        "## Question 9 Answer:\n"
      ]
    }
  ],
  "metadata": {
    "kernelspec": {
      "display_name": "Python 3",
      "language": "python",
      "name": "python3"
    },
    "language_info": {
      "codemirror_mode": {
        "name": "ipython",
        "version": 3
      },
      "file_extension": ".py",
      "mimetype": "text/x-python",
      "name": "python",
      "nbconvert_exporter": "python",
      "pygments_lexer": "ipython3",
      "version": "3.6.5"
    },
    "colab": {
      "name": "ChallengeLabDataViz.ipynb",
      "provenance": []
    }
  },
  "nbformat": 4,
  "nbformat_minor": 0
}